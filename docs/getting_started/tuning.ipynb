{
 "cells": [
  {
   "cell_type": "code",
   "execution_count": 1,
   "metadata": {},
   "outputs": [
    {
     "name": "stdout",
     "output_type": "stream",
     "text": [
      "Looking in indexes: http://build-nexus.prod.crto.in/repository/pypi/simple\n",
      "Requirement already satisfied: deepr[cpu] in /mnt/nfs/home/s.ivanov/deepr (2.10.0)\n",
      "Requirement already satisfied: cluster-pack>=0.0.7 in /mnt/nfs/home/s.ivanov/envs/deepr/lib/python3.6/site-packages (from deepr[cpu]) (0.0.11)\n",
      "Requirement already satisfied: fire>=0.3 in /mnt/nfs/home/s.ivanov/envs/deepr/lib/python3.6/site-packages (from deepr[cpu]) (0.3.1)\n",
      "Requirement already satisfied: graphyte<2,>=1 in /mnt/nfs/home/s.ivanov/envs/deepr/lib/python3.6/site-packages (from deepr[cpu]) (1.6.0)\n",
      "Requirement already satisfied: jsonnet>=0.15 in /mnt/nfs/home/s.ivanov/envs/deepr/lib/python3.6/site-packages (from deepr[cpu]) (0.16.0)\n",
      "Requirement already satisfied: mlflow in /mnt/nfs/home/s.ivanov/envs/deepr/lib/python3.6/site-packages (from deepr[cpu]) (1.11.0)\n",
      "Requirement already satisfied: numpy<2,>=1.18 in /mnt/nfs/home/s.ivanov/envs/deepr/lib/python3.6/site-packages (from deepr[cpu]) (1.19.4)\n",
      "Requirement already satisfied: pandas>=1 in /mnt/nfs/home/s.ivanov/envs/deepr/lib/python3.6/site-packages (from deepr[cpu]) (1.1.4)\n",
      "Requirement already satisfied: psutil<6,>=5 in /mnt/nfs/home/s.ivanov/envs/deepr/lib/python3.6/site-packages (from deepr[cpu]) (5.7.3)\n",
      "Requirement already satisfied: pyarrow>=0.14 in /mnt/nfs/home/s.ivanov/envs/deepr/lib/python3.6/site-packages (from deepr[cpu]) (0.17.1)\n",
      "Requirement already satisfied: skein>=0.8 in /mnt/nfs/home/s.ivanov/envs/deepr/lib/python3.6/site-packages (from deepr[cpu]) (0.8.0+criteo.1589371352)\n",
      "Requirement already satisfied: tensorflow<2,>=1.15 in /mnt/nfs/home/s.ivanov/envs/deepr/lib/python3.6/site-packages (from deepr[cpu]) (1.15.4)\n",
      "Requirement already satisfied: tf-yarn>=0.4.20 in /mnt/nfs/home/s.ivanov/envs/deepr/lib/python3.6/site-packages (from deepr[cpu]) (0.5.1+criteo)\n",
      "Requirement already satisfied: conda-pack in /mnt/nfs/home/s.ivanov/envs/deepr/lib/python3.6/site-packages (from cluster-pack>=0.0.7->deepr[cpu]) (0.5.0)\n",
      "Requirement already satisfied: pip>=18.1 in /mnt/nfs/home/s.ivanov/envs/deepr/lib/python3.6/site-packages (from cluster-pack>=0.0.7->deepr[cpu]) (20.2.4)\n",
      "Requirement already satisfied: pex==2.1.1 in /mnt/nfs/home/s.ivanov/envs/deepr/lib/python3.6/site-packages (from cluster-pack>=0.0.7->deepr[cpu]) (2.1.1)\n",
      "Requirement already satisfied: cloudpickle<1.4,>=1.0.0 in /mnt/nfs/home/s.ivanov/envs/deepr/lib/python3.6/site-packages (from cluster-pack>=0.0.7->deepr[cpu]) (1.3.0)\n",
      "Requirement already satisfied: termcolor in /mnt/nfs/home/s.ivanov/envs/deepr/lib/python3.6/site-packages (from fire>=0.3->deepr[cpu]) (1.1.0)\n",
      "Requirement already satisfied: six in /mnt/nfs/home/s.ivanov/envs/deepr/lib/python3.6/site-packages (from fire>=0.3->deepr[cpu]) (1.15.0)\n",
      "Requirement already satisfied: querystring-parser in /mnt/nfs/home/s.ivanov/envs/deepr/lib/python3.6/site-packages (from mlflow->deepr[cpu]) (1.2.4)\n",
      "Requirement already satisfied: gitpython>=2.1.0 in /mnt/nfs/home/s.ivanov/envs/deepr/lib/python3.6/site-packages (from mlflow->deepr[cpu]) (3.1.11)\n",
      "Requirement already satisfied: gunicorn; platform_system != \"Windows\" in /mnt/nfs/home/s.ivanov/envs/deepr/lib/python3.6/site-packages (from mlflow->deepr[cpu]) (20.0.4)\n",
      "Requirement already satisfied: click>=7.0 in /mnt/nfs/home/s.ivanov/envs/deepr/lib/python3.6/site-packages (from mlflow->deepr[cpu]) (7.1.2)\n",
      "Requirement already satisfied: pyyaml in /mnt/nfs/home/s.ivanov/envs/deepr/lib/python3.6/site-packages (from mlflow->deepr[cpu]) (5.3.1)\n",
      "Requirement already satisfied: sqlparse in /mnt/nfs/home/s.ivanov/envs/deepr/lib/python3.6/site-packages (from mlflow->deepr[cpu]) (0.4.1)\n",
      "Requirement already satisfied: entrypoints in /mnt/nfs/home/s.ivanov/envs/deepr/lib/python3.6/site-packages (from mlflow->deepr[cpu]) (0.3)\n",
      "Requirement already satisfied: Flask in /mnt/nfs/home/s.ivanov/envs/deepr/lib/python3.6/site-packages (from mlflow->deepr[cpu]) (1.1.2)\n",
      "Requirement already satisfied: databricks-cli>=0.8.7 in /mnt/nfs/home/s.ivanov/envs/deepr/lib/python3.6/site-packages (from mlflow->deepr[cpu]) (0.13.0)\n",
      "Requirement already satisfied: gorilla in /mnt/nfs/home/s.ivanov/envs/deepr/lib/python3.6/site-packages (from mlflow->deepr[cpu]) (0.3.0)\n",
      "Requirement already satisfied: alembic<=1.4.1 in /mnt/nfs/home/s.ivanov/envs/deepr/lib/python3.6/site-packages (from mlflow->deepr[cpu]) (1.4.1)\n",
      "Requirement already satisfied: azure-storage-blob>=12.0 in /mnt/nfs/home/s.ivanov/envs/deepr/lib/python3.6/site-packages (from mlflow->deepr[cpu]) (12.5.0)\n",
      "Requirement already satisfied: requests>=2.17.3 in /mnt/nfs/home/s.ivanov/envs/deepr/lib/python3.6/site-packages (from mlflow->deepr[cpu]) (2.24.0)\n",
      "Requirement already satisfied: prometheus-flask-exporter in /mnt/nfs/home/s.ivanov/envs/deepr/lib/python3.6/site-packages (from mlflow->deepr[cpu]) (0.18.1)\n",
      "Requirement already satisfied: docker>=4.0.0 in /mnt/nfs/home/s.ivanov/envs/deepr/lib/python3.6/site-packages (from mlflow->deepr[cpu]) (4.3.1)\n",
      "Requirement already satisfied: sqlalchemy<=1.3.13 in /mnt/nfs/home/s.ivanov/envs/deepr/lib/python3.6/site-packages (from mlflow->deepr[cpu]) (1.3.13)\n",
      "Requirement already satisfied: python-dateutil in /mnt/nfs/home/s.ivanov/envs/deepr/lib/python3.6/site-packages (from mlflow->deepr[cpu]) (2.8.1)\n",
      "Requirement already satisfied: protobuf>=3.6.0 in /mnt/nfs/home/s.ivanov/envs/deepr/lib/python3.6/site-packages (from mlflow->deepr[cpu]) (3.13.0)\n",
      "Requirement already satisfied: pytz>=2017.2 in /mnt/nfs/home/s.ivanov/envs/deepr/lib/python3.6/site-packages (from pandas>=1->deepr[cpu]) (2020.4)\n",
      "Requirement already satisfied: cryptography in /mnt/nfs/home/s.ivanov/envs/deepr/lib/python3.6/site-packages (from skein>=0.8->deepr[cpu]) (3.2.1)\n",
      "Requirement already satisfied: grpcio>=1.11.0 in /mnt/nfs/home/s.ivanov/envs/deepr/lib/python3.6/site-packages (from skein>=0.8->deepr[cpu]) (1.33.2)\n",
      "Requirement already satisfied: gast==0.2.2 in /mnt/nfs/home/s.ivanov/envs/deepr/lib/python3.6/site-packages (from tensorflow<2,>=1.15->deepr[cpu]) (0.2.2)\n",
      "Requirement already satisfied: opt-einsum>=2.3.2 in /mnt/nfs/home/s.ivanov/envs/deepr/lib/python3.6/site-packages (from tensorflow<2,>=1.15->deepr[cpu]) (3.3.0)\n",
      "Requirement already satisfied: google-pasta>=0.1.6 in /mnt/nfs/home/s.ivanov/envs/deepr/lib/python3.6/site-packages (from tensorflow<2,>=1.15->deepr[cpu]) (0.2.0)\n",
      "Requirement already satisfied: astor>=0.6.0 in /mnt/nfs/home/s.ivanov/envs/deepr/lib/python3.6/site-packages (from tensorflow<2,>=1.15->deepr[cpu]) (0.8.1)\n",
      "Requirement already satisfied: keras-preprocessing>=1.0.5 in /mnt/nfs/home/s.ivanov/envs/deepr/lib/python3.6/site-packages (from tensorflow<2,>=1.15->deepr[cpu]) (1.1.2)\n",
      "Requirement already satisfied: tensorboard<1.16.0,>=1.15.0 in /mnt/nfs/home/s.ivanov/envs/deepr/lib/python3.6/site-packages (from tensorflow<2,>=1.15->deepr[cpu]) (1.15.0)\n",
      "Requirement already satisfied: keras-applications>=1.0.8 in /mnt/nfs/home/s.ivanov/envs/deepr/lib/python3.6/site-packages (from tensorflow<2,>=1.15->deepr[cpu]) (1.0.8)\n",
      "Requirement already satisfied: tensorflow-estimator==1.15.1 in /mnt/nfs/home/s.ivanov/envs/deepr/lib/python3.6/site-packages (from tensorflow<2,>=1.15->deepr[cpu]) (1.15.1)\n",
      "Requirement already satisfied: wrapt>=1.11.1 in /mnt/nfs/home/s.ivanov/envs/deepr/lib/python3.6/site-packages (from tensorflow<2,>=1.15->deepr[cpu]) (1.12.1)\n",
      "Requirement already satisfied: absl-py>=0.7.0 in /mnt/nfs/home/s.ivanov/envs/deepr/lib/python3.6/site-packages (from tensorflow<2,>=1.15->deepr[cpu]) (0.11.0)\n",
      "Requirement already satisfied: wheel>=0.26; python_version >= \"3\" in /mnt/nfs/home/s.ivanov/envs/deepr/lib/python3.6/site-packages (from tensorflow<2,>=1.15->deepr[cpu]) (0.35.1)\n",
      "Requirement already satisfied: setuptools in /mnt/nfs/home/s.ivanov/envs/deepr/lib/python3.6/site-packages (from conda-pack->cluster-pack>=0.0.7->deepr[cpu]) (50.3.2)\n",
      "Requirement already satisfied: gitdb<5,>=4.0.1 in /mnt/nfs/home/s.ivanov/envs/deepr/lib/python3.6/site-packages (from gitpython>=2.1.0->mlflow->deepr[cpu]) (4.0.5)\n",
      "Requirement already satisfied: itsdangerous>=0.24 in /mnt/nfs/home/s.ivanov/envs/deepr/lib/python3.6/site-packages (from Flask->mlflow->deepr[cpu]) (1.1.0)\n",
      "Requirement already satisfied: Werkzeug>=0.15 in /mnt/nfs/home/s.ivanov/envs/deepr/lib/python3.6/site-packages (from Flask->mlflow->deepr[cpu]) (1.0.1)\n",
      "Requirement already satisfied: Jinja2>=2.10.1 in /mnt/nfs/home/s.ivanov/envs/deepr/lib/python3.6/site-packages (from Flask->mlflow->deepr[cpu]) (2.11.2)\n",
      "Requirement already satisfied: tabulate>=0.7.7 in /mnt/nfs/home/s.ivanov/envs/deepr/lib/python3.6/site-packages (from databricks-cli>=0.8.7->mlflow->deepr[cpu]) (0.8.7)\n",
      "Requirement already satisfied: Mako in /mnt/nfs/home/s.ivanov/envs/deepr/lib/python3.6/site-packages (from alembic<=1.4.1->mlflow->deepr[cpu]) (1.1.3)\n",
      "Requirement already satisfied: python-editor>=0.3 in /mnt/nfs/home/s.ivanov/envs/deepr/lib/python3.6/site-packages (from alembic<=1.4.1->mlflow->deepr[cpu]) (1.0.4)\n",
      "Requirement already satisfied: msrest>=0.6.10 in /mnt/nfs/home/s.ivanov/envs/deepr/lib/python3.6/site-packages (from azure-storage-blob>=12.0->mlflow->deepr[cpu]) (0.6.19)\n"
     ]
    },
    {
     "name": "stdout",
     "output_type": "stream",
     "text": [
      "Requirement already satisfied: azure-core<2.0.0,>=1.6.0 in /mnt/nfs/home/s.ivanov/envs/deepr/lib/python3.6/site-packages (from azure-storage-blob>=12.0->mlflow->deepr[cpu]) (1.8.2)\n",
      "Requirement already satisfied: certifi>=2017.4.17 in /mnt/nfs/home/s.ivanov/envs/deepr/lib/python3.6/site-packages (from requests>=2.17.3->mlflow->deepr[cpu]) (2020.6.20)\n",
      "Requirement already satisfied: urllib3!=1.25.0,!=1.25.1,<1.26,>=1.21.1 in /mnt/nfs/home/s.ivanov/envs/deepr/lib/python3.6/site-packages (from requests>=2.17.3->mlflow->deepr[cpu]) (1.25.11)\n",
      "Requirement already satisfied: chardet<4,>=3.0.2 in /mnt/nfs/home/s.ivanov/envs/deepr/lib/python3.6/site-packages (from requests>=2.17.3->mlflow->deepr[cpu]) (3.0.4)\n",
      "Requirement already satisfied: idna<3,>=2.5 in /mnt/nfs/home/s.ivanov/envs/deepr/lib/python3.6/site-packages (from requests>=2.17.3->mlflow->deepr[cpu]) (2.10)\n",
      "Requirement already satisfied: prometheus-client in /mnt/nfs/home/s.ivanov/envs/deepr/lib/python3.6/site-packages (from prometheus-flask-exporter->mlflow->deepr[cpu]) (0.8.0)\n",
      "Requirement already satisfied: websocket-client>=0.32.0 in /mnt/nfs/home/s.ivanov/envs/deepr/lib/python3.6/site-packages (from docker>=4.0.0->mlflow->deepr[cpu]) (0.57.0)\n",
      "Requirement already satisfied: cffi!=1.11.3,>=1.8 in /mnt/nfs/home/s.ivanov/envs/deepr/lib/python3.6/site-packages (from cryptography->skein>=0.8->deepr[cpu]) (1.14.3)\n",
      "Requirement already satisfied: markdown>=2.6.8 in /mnt/nfs/home/s.ivanov/envs/deepr/lib/python3.6/site-packages (from tensorboard<1.16.0,>=1.15.0->tensorflow<2,>=1.15->deepr[cpu]) (3.3.3)\n",
      "Requirement already satisfied: h5py in /mnt/nfs/home/s.ivanov/envs/deepr/lib/python3.6/site-packages (from keras-applications>=1.0.8->tensorflow<2,>=1.15->deepr[cpu]) (3.1.0)\n",
      "Requirement already satisfied: smmap<4,>=3.0.1 in /mnt/nfs/home/s.ivanov/envs/deepr/lib/python3.6/site-packages (from gitdb<5,>=4.0.1->gitpython>=2.1.0->mlflow->deepr[cpu]) (3.0.4)\n",
      "Requirement already satisfied: MarkupSafe>=0.23 in /mnt/nfs/home/s.ivanov/envs/deepr/lib/python3.6/site-packages (from Jinja2>=2.10.1->Flask->mlflow->deepr[cpu]) (1.1.1)\n",
      "Requirement already satisfied: isodate>=0.6.0 in /mnt/nfs/home/s.ivanov/envs/deepr/lib/python3.6/site-packages (from msrest>=0.6.10->azure-storage-blob>=12.0->mlflow->deepr[cpu]) (0.6.0)\n",
      "Requirement already satisfied: requests-oauthlib>=0.5.0 in /mnt/nfs/home/s.ivanov/envs/deepr/lib/python3.6/site-packages (from msrest>=0.6.10->azure-storage-blob>=12.0->mlflow->deepr[cpu]) (1.3.0)\n",
      "Requirement already satisfied: pycparser in /mnt/nfs/home/s.ivanov/envs/deepr/lib/python3.6/site-packages (from cffi!=1.11.3,>=1.8->cryptography->skein>=0.8->deepr[cpu]) (2.20)\n",
      "Requirement already satisfied: importlib-metadata; python_version < \"3.8\" in /mnt/nfs/home/s.ivanov/envs/deepr/lib/python3.6/site-packages (from markdown>=2.6.8->tensorboard<1.16.0,>=1.15.0->tensorflow<2,>=1.15->deepr[cpu]) (2.0.0)\n",
      "Requirement already satisfied: cached-property; python_version < \"3.8\" in /mnt/nfs/home/s.ivanov/envs/deepr/lib/python3.6/site-packages (from h5py->keras-applications>=1.0.8->tensorflow<2,>=1.15->deepr[cpu]) (1.5.2)\n",
      "Requirement already satisfied: oauthlib>=3.0.0 in /mnt/nfs/home/s.ivanov/envs/deepr/lib/python3.6/site-packages (from requests-oauthlib>=0.5.0->msrest>=0.6.10->azure-storage-blob>=12.0->mlflow->deepr[cpu]) (3.1.0)\n",
      "Requirement already satisfied: zipp>=0.5 in /mnt/nfs/home/s.ivanov/envs/deepr/lib/python3.6/site-packages (from importlib-metadata; python_version < \"3.8\"->markdown>=2.6.8->tensorboard<1.16.0,>=1.15.0->tensorflow<2,>=1.15->deepr[cpu]) (3.4.0)\n"
     ]
    }
   ],
   "source": [
    "!pip install deepr[cpu]"
   ]
  },
  {
   "cell_type": "markdown",
   "metadata": {},
   "source": [
    "# Hyper Parameter Tuning\n",
    "\n",
    "This notebook builds upon the previous [pipeline example](https://criteo.github.io/deepr/getting_started/pipeline.html). The goal is to perform hyperparameter search by varying the learning rate and batch size.\n",
    "\n",
    "To launch an HP search, the steps are\n",
    "\n",
    "1. Download / retrieve some config and its macros (usually saved as MLFlow artifacts).\n",
    "2. Prepare the config by adding new macro parameters for a macro named \"params\" (for example change `\"learning_rate\": 0.1` to `\"learning_rate\": \"$params:learning_rate\"`).\n",
    "3. Define a sampler.\n",
    "4. Launch a tuning job using the prepared config, macros and sampler.\n",
    "\n",
    "First, some imports"
   ]
  },
  {
   "cell_type": "code",
   "execution_count": 2,
   "metadata": {},
   "outputs": [],
   "source": [
    "import logging\n",
    "import sys\n",
    "logging.basicConfig(level=logging.INFO, stream=sys.stdout)\n",
    "logging.getLogger(\"tensorflow\").setLevel(logging.CRITICAL)\n",
    "logging.getLogger(\"cluster_pack\").setLevel(logging.CRITICAL)"
   ]
  },
  {
   "cell_type": "code",
   "execution_count": 3,
   "metadata": {},
   "outputs": [],
   "source": [
    "import numpy as np\n",
    "import deepr as dpr"
   ]
  },
  {
   "cell_type": "markdown",
   "metadata": {},
   "source": [
    "## Prepare config\n",
    "\n",
    "You can either manually create a config or download it from other experiments (using mlflow)\n",
    "\n",
    "To download it from mlflow you can either use bash:\n",
    "\n",
    "\n",
    "```bash\n",
    "deepr download_config_and_macros_from_mlflow --run_id=841d3f9f2ba4b69921b426a81fd --tracking_uri=$MLFLOW_TRACKING_URI\n",
    "```\n",
    "\n",
    "It will download config and macros artifact to `config.json` and `macros.json` paths from some run id\n",
    "\n",
    "Alternatively, you can download it from python:\n",
    "    \n",
    "```python\n",
    "run_id=\"841d3f9f2ba4b69921b426a81fd\"\n",
    "tracking_uri=\"https://mlflow.crto.in/\"\n",
    "\n",
    "dpr.cli.download_config_and_macros_from_mlflow(\n",
    "    run_id=run_id,\n",
    "    path_config=\"config.json\",\n",
    "    path_macros=\"macros.json\",\n",
    "    tracking_uri=tracking_uri\n",
    ")\n",
    "```\n",
    "\n",
    "To download macros you can do:\n",
    "\n",
    "```bash\n",
    "deepr add_macro --config=config.json --macros=macros.json --params=learning_rate,batch_size\n",
    "```\n",
    "\n",
    "Or with python\n",
    "\n",
    "```python\n",
    "dpr.cli.add_macro(\n",
    "    config=\"config.json\",\n",
    "    macros=\"macros.json\",\n",
    "    params=[\"learning_rate\", \"batch_size\"],\n",
    ")\n",
    "```\n",
    "\n",
    "You can then use:\n",
    "\n",
    "```python\n",
    "# Read job config and macros\n",
    "job = dpr.io.read_json(\"config.json\")\n",
    "macros = dpr.io.read_json(\"macros.json\")\n",
    "```\n",
    "\n",
    "Alternatively, define macros and configs manually:"
   ]
  },
  {
   "cell_type": "code",
   "execution_count": 4,
   "metadata": {
    "pycharm": {
     "name": "#%%\n"
    }
   },
   "outputs": [],
   "source": [
    "job = {\n",
    "    \"type\": \"deepr.jobs.yarn_launcher.YarnLauncher\",\n",
    "    \"job\": {\n",
    "        \"type\": \"deepr.jobs.Pipeline\",\n",
    "        \"eval\": None,\n",
    "        \"jobs\": [\n",
    "            {\n",
    "                \"type\": \"deepr.examples.multiply.jobs.build.Build\",\n",
    "                \"path_dataset\": \"viewfs://root/user/deepr/dev/example/data.tfrecord\",\n",
    "                \"num_examples\": 1000,\n",
    "            },\n",
    "            {\n",
    "                \"type\": \"deepr.jobs.YarnTrainer\",\n",
    "                \"trainer\": {\n",
    "                    \"type\": \"deepr.jobs.Trainer\",\n",
    "                    \"path_model\": \"$paths:path_model\",  # Uses macro \"paths:path_model\"\n",
    "                    \"pred_fn\": {\"type\": \"deepr.examples.multiply.layers.model.Multiply\"},\n",
    "                    \"loss_fn\": {\"type\": \"deepr.examples.multiply.layers.loss.SquaredL2\"},\n",
    "                    \"optimizer_fn\": {\n",
    "                        \"type\": \"deepr.optimizers.TensorflowOptimizer\",\n",
    "                        \"optimizer\": \"Adam\",\n",
    "                        \"learning_rate\": \"$params:learning_rate\",  # Uses macro \"params:learning_rate\"\n",
    "                    },\n",
    "                    \"train_spec\": {\n",
    "                        \"type\": \"deepr.jobs.TrainSpec\",\n",
    "                        \"max_steps\": 1000\n",
    "                    },\n",
    "                    \"prepro_fn\": {\n",
    "                        \"type\": \"deepr.examples.multiply.prepros.default.DefaultPrepro\",  # Uses macro \"params:batch_size\"\n",
    "                        \"batch_size\": \"$params:batch_size\",\n",
    "                        \"repeat_size\": None,\n",
    "                    },\n",
    "                    \"train_input_fn\": {\n",
    "                        \"type\": \"deepr.readers.TFRecordReader\",\n",
    "                        \"path\": \"viewfs://root/user/deepr/dev/example/data.tfrecord\",\n",
    "                        \"num_parallel_reads\": 8,\n",
    "                        \"num_parallel_calls\": 8,\n",
    "                        \"shuffle\": True,\n",
    "                    },\n",
    "                    \"eval_input_fn\": {\n",
    "                        \"type\": \"deepr.readers.TFRecordReader\",\n",
    "                        \"path\": \"viewfs://root/user/deepr/dev/example/data.tfrecord\",\n",
    "                        \"num_parallel_reads\": 8,\n",
    "                        \"num_parallel_calls\": 8,\n",
    "                        \"shuffle\": True,\n",
    "                    },\n",
    "                },\n",
    "                \"config\": {\n",
    "                    \"type\": \"deepr.jobs.YarnTrainerConfig\"\n",
    "                },\n",
    "            },\n",
    "        ],\n",
    "    },\n",
    "    \"config\": {\n",
    "        \"type\": \"deepr.jobs.YarnLauncherConfig\",\n",
    "        \"path_pex_prefix\": \"viewfs://root/user/deepr/dev/example/envs\",\n",
    "        \"cpu_ignored_packages\": [\"thx\"]\n",
    "    },\n",
    "}"
   ]
  },
  {
   "cell_type": "markdown",
   "metadata": {
    "pycharm": {
     "name": "#%% md\n"
    }
   },
   "source": [
    "We also used a dynamic macro to set the path to the model dynamically (every experiment needs to use a different model path)."
   ]
  },
  {
   "cell_type": "code",
   "execution_count": 5,
   "metadata": {
    "pycharm": {
     "name": "#%%\n"
    }
   },
   "outputs": [],
   "source": [
    "import datetime\n",
    "import time\n",
    "\n",
    "class Paths(dict):\n",
    "    \"\"\"Macro that generates new path_model based on date.\"\"\"\n",
    "\n",
    "    def __init__(self, path_model: str = None, path_dataset: str = None):\n",
    "        now = datetime.datetime.now().strftime(\"%Y-%m-%d-%H-%M-%S\")\n",
    "        if path_model is None:\n",
    "            path_model = f\"viewfs://root/user/deepr/dev/example/models/{now}\"\n",
    "        if path_dataset is None:\n",
    "            path_dataset = f\"viewfs://root/user/deepr/dev/example/data.tfrecord\"\n",
    "        super().__init__(path_model=path_model, path_dataset=path_dataset)\n",
    "\n",
    "macros = {\n",
    "    \"paths\": {\n",
    "        \"type\": \"__main__.Paths\"\n",
    "    },\n",
    "    \"params\": {\n",
    "        \"learning_rate\": 0.01,\n",
    "        \"batch_size\": 16\n",
    "    }\n",
    "}"
   ]
  },
  {
   "cell_type": "markdown",
   "metadata": {},
   "source": [
    "## Launch\n",
    "\n",
    "Now that the config is prepared, we can launch hyper parameter tuning using the `ParamsSampler` job.\n",
    "\n",
    "The only thing that it does is sampling some learning rate values and use them as macros.\n",
    "\n",
    "First, let's define a sampler for the parameters"
   ]
  },
  {
   "cell_type": "code",
   "execution_count": 6,
   "metadata": {
    "pycharm": {
     "name": "#%%\n"
    }
   },
   "outputs": [],
   "source": [
    "param_grid = {\n",
    "    \"learning_rate\": np.logspace(start=-3, stop=-1, num=10),\n",
    "    \"batch_size\": [8, 16, 32, 64],\n",
    "}\n",
    "sampler = dpr.jobs.ParamsSampler(param_grid, n_iter=5, seed=42)"
   ]
  },
  {
   "cell_type": "markdown",
   "metadata": {},
   "source": [
    "and use the sampler with our config and macros to launch hyper params tuning with\n"
   ]
  },
  {
   "cell_type": "code",
   "execution_count": 7,
   "metadata": {
    "pycharm": {
     "name": "#%%\n"
    }
   },
   "outputs": [],
   "source": [
    "HAS_HADOOP = False\n",
    "\n",
    "if HAS_HADOOP:\n",
    "    tuner = dpr.jobs.ParamsTuner(job=job, macros=macros, sampler=sampler)\n",
    "    tuner.run()"
   ]
  }
 ],
 "metadata": {
  "kernelspec": {
   "display_name": "Python 3",
   "language": "python",
   "name": "python3"
  },
  "language_info": {
   "codemirror_mode": {
    "name": "ipython",
    "version": 3
   },
   "file_extension": ".py",
   "mimetype": "text/x-python",
   "name": "python",
   "nbconvert_exporter": "python",
   "pygments_lexer": "ipython3",
   "version": "3.6.8"
  }
 },
 "nbformat": 4,
 "nbformat_minor": 4
}