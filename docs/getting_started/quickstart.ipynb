{
 "cells": [
  {
   "cell_type": "markdown",
   "metadata": {
    "pycharm": {
     "name": "#%% md\n"
    }
   },
   "source": [
    "# Quickstart"
   ]
  },
  {
   "cell_type": "markdown",
   "metadata": {},
   "source": [
    "This notebook is a gentle introduction to the few concepts and abstractions of deepr.\n",
    "\n",
    "It demonstrates how to train a model that learns how to multiply a number by 2.\n",
    "\n",
    "To train a model with deepr the main entry point is the [Trainer](https://criteo.github.io/deepr/API/_autosummary/deepr.jobs.Trainer.html#deepr.jobs.Trainer) job.\n",
    "\n",
    "It is important at this point to stress that `deepr` is not yet another library to build neural networks, but merely a utility to build functions that operate on basic Tensorflow types, i.e. [tf.Tensor](https://www.tensorflow.org/api_docs/python/tf/Tensor) and [tf.data.Dataset](https://www.tensorflow.org/api_docs/python/tf/data/Dataset).\n",
    "\n",
    "Using functional programming makes it easy to lazily define graphs that will only be built at run time by the [tf.estimator](https://www.tensorflow.org/guide/estimator) high-level API.\n",
    "\n",
    "The `Trainer` job uses most of the [important concepts](https://criteo.github.io/deepr/API/core.html) of deepr, while only expecting basic types (mainly functions operating on datasets, dictionaries of tensors, etc.).\n",
    "\n",
    "\n",
    "* `path_model : str`\n",
    "    Path to the model directory. Can be either local or HDFS.\n",
    "    \n",
    "* `pred_fn : Callable[[Dict[str, tf.Tensor], str], Dict[str, tf.Tensor]]`\n",
    "    Typically a [Layer](https://criteo.github.io/deepr/API/_autosummary/deepr.layers.Layer.html#deepr.layers.Layer) instance, but in general, any callable.\n",
    "\n",
    "* `loss_fn : Callable[[Dict[str, tf.Tensor], str], Dict[str, tf.Tensor]]`\n",
    "    Typically a [Layer](https://criteo.github.io/deepr/API/_autosummary/deepr.layers.Layer.html#deepr.layers.Layer) instance, but in general, any callable.\n",
    "\n",
    "* `optimizer_fn : Callable[[tf.Tensor], tf.Tensor]`\n",
    "    Typically an [Optimizer](https://criteo.github.io/deepr/API/_autosummary/deepr.optimizers.Optimizer.html#deepr.optimizers.Optimizer) instance, but in general, any callable.\n",
    "\n",
    "* `train_input_fn : Callable[[], tf.data.Dataset]`\n",
    "    Typically a [Reader](https://criteo.github.io/deepr/API/_autosummary/deepr.readers.Reader.html#deepr.readers.Reader) instance, but in general, any callable.\n",
    "\n",
    "* `eval_input_fn : Callable[[], tf.data.Dataset]`\n",
    "    Typically a [Reader](https://criteo.github.io/deepr/API/_autosummary/deepr.readers.Reader.html#deepr.readers.Reader) instance, but in general, any callable.\n",
    "\n",
    "* `prepro_fn: Callable[[tf.data.Dataset, str], tf.data.Dataset], Optional`\n",
    "    Typically a [Prepro](https://criteo.github.io/deepr/API/_autosummary/deepr.prepros.Prepro.html#deepr.prepros.Prepro) instance, but in general, any callable.\n",
    "\n",
    "There are more parameters that use the other concepts (hooks, metrics, exporter, ...) and this will be covered in another guide.\n",
    "\n",
    "So to train our model, we need to define all that, let's start !"
   ]
  },
  {
   "cell_type": "markdown",
   "metadata": {},
   "source": [
    "## Dataset"
   ]
  },
  {
   "cell_type": "markdown",
   "metadata": {},
   "source": [
    "The first step is to build a dataset. For this we will build a synthetic dataset of numbers of (x, 2x).\n",
    "\n",
    "Also see other ways to build a dataset in the [reader reference](https://criteo.github.io/deepr/API/core.html#reader)"
   ]
  },
  {
   "cell_type": "markdown",
   "metadata": {},
   "source": [
    "Some imports first"
   ]
  },
  {
   "cell_type": "code",
   "execution_count": 1,
   "metadata": {},
   "outputs": [],
   "source": [
    "import logging\n",
    "import sys\n",
    "logging.basicConfig(level=logging.INFO, stream=sys.stdout)\n",
    "logging.getLogger(\"tensorflow\").setLevel(logging.CRITICAL)"
   ]
  },
  {
   "cell_type": "code",
   "execution_count": 2,
   "metadata": {},
   "outputs": [],
   "source": [
    "import tensorflow as tf\n",
    "import deepr as dpr\n",
    "import numpy as np\n",
    "import deepr.layers as dprl"
   ]
  },
  {
   "cell_type": "markdown",
   "metadata": {},
   "source": [
    "Let's define a generator function and then use a [GeneratorReader](https://criteo.github.io/deepr/API/_autosummary/deepr.readers.GeneratorReader.html#deepr.readers.GeneratorReader) to create a `tf.data.Dataset`"
   ]
  },
  {
   "cell_type": "code",
   "execution_count": 3,
   "metadata": {},
   "outputs": [],
   "source": [
    "def generator_fn():\n",
    "    for _ in range(1000):\n",
    "        x = np.random.random()\n",
    "        yield {\"x\": x, \"y\": 2 * x}\n",
    "\n",
    "reader = dpr.readers.GeneratorReader(\n",
    "    generator_fn,\n",
    "    output_types={\"x\":tf.float32, \"y\":tf.float32},\n",
    "    output_shapes={\"x\":(), \"y\":()}\n",
    ")"
   ]
  },
  {
   "cell_type": "markdown",
   "metadata": {},
   "source": [
    "The `Reader` classes are simple helper functions to create `tf.data.Dataset`, heavily inspired by the `tensorflow_dataset` package.\n",
    "\n",
    "Once the reader is configured, you can create a new `Dataset` with"
   ]
  },
  {
   "cell_type": "code",
   "execution_count": 4,
   "metadata": {},
   "outputs": [
    {
     "name": "stdout",
     "output_type": "stream",
     "text": [
      "<DatasetV1Adapter shapes: {x: (), y: ()}, types: {x: tf.float32, y: tf.float32}>\n",
      "<DatasetV1Adapter shapes: {x: (), y: ()}, types: {x: tf.float32, y: tf.float32}>\n"
     ]
    }
   ],
   "source": [
    "dataset = reader.as_dataset()\n",
    "print(dataset)\n",
    "dataset = reader()  # Simply an alias for as_dataset\n",
    "print(dataset)"
   ]
  },
  {
   "cell_type": "markdown",
   "metadata": {},
   "source": [
    "Iterating over a `tf.data.Dataset` in \"graph\" mode is not possible.\n",
    "\n",
    "The base `Reader` class makes it possible to iterate over the dataset, faking eager-execution mode (under the hood it simply creates a session in the special `__iter__` method).\n",
    "\n",
    "Let's have a look at the content of our dataset"
   ]
  },
  {
   "cell_type": "code",
   "execution_count": 5,
   "metadata": {},
   "outputs": [
    {
     "name": "stdout",
     "output_type": "stream",
     "text": [
      "{'x': 0.5050241, 'y': 1.0100482}\n",
      "{'x': 0.74931484, 'y': 1.4986297}\n",
      "{'x': 0.6693086, 'y': 1.3386172}\n",
      "{'x': 0.713442, 'y': 1.426884}\n",
      "{'x': 0.840372, 'y': 1.680744}\n",
      "{'x': 0.7257865, 'y': 1.451573}\n",
      "{'x': 0.7972316, 'y': 1.5944632}\n",
      "{'x': 0.71821946, 'y': 1.4364389}\n",
      "{'x': 0.90175074, 'y': 1.8035015}\n",
      "{'x': 0.6040216, 'y': 1.2080432}\n",
      "{'x': 0.6545429, 'y': 1.3090858}\n"
     ]
    }
   ],
   "source": [
    "for index, item in enumerate(reader):\n",
    "    print(item)\n",
    "    if index == 10:\n",
    "        break"
   ]
  },
  {
   "cell_type": "markdown",
   "metadata": {},
   "source": [
    "The `Trainer` job expects 2 `input_fn` that are simple callables creating new `tf.data.Dataset`.\n",
    "\n",
    "Our `reader` does exactly that, so let's set"
   ]
  },
  {
   "cell_type": "code",
   "execution_count": 6,
   "metadata": {},
   "outputs": [],
   "source": [
    "train_input_fn = reader\n",
    "eval_input_fn = reader"
   ]
  },
  {
   "cell_type": "markdown",
   "metadata": {},
   "source": [
    "## Prepro"
   ]
  },
  {
   "cell_type": "markdown",
   "metadata": {},
   "source": [
    "Now that we have datasets, we need to preprocess them before feeding data to our model. In this example, we only need to create batches of data, and allow multiple iterations over the dataset to be able to perform multiple epochs.\n",
    "\n",
    "Let's use the `prepro` module to functionally define a preprocessing function.\n",
    "\n",
    "See the [prepro reference](https://criteo.github.io/deepr/API/core.html#prepro)"
   ]
  },
  {
   "cell_type": "code",
   "execution_count": 7,
   "metadata": {},
   "outputs": [],
   "source": [
    "prepro_fn = dpr.prepros.Serial(\n",
    "    dpr.prepros.Batch(batch_size=32),\n",
    "    dpr.prepros.Repeat(10, modes=[tf.estimator.ModeKeys.TRAIN])\n",
    ")"
   ]
  },
  {
   "cell_type": "markdown",
   "metadata": {},
   "source": [
    "As expected, the output of this prepro function is a batched dataset"
   ]
  },
  {
   "cell_type": "code",
   "execution_count": 8,
   "metadata": {},
   "outputs": [
    {
     "data": {
      "text/plain": [
       "<DatasetV1Adapter shapes: {x: (?,), y: (?,)}, types: {x: tf.float32, y: tf.float32}>"
      ]
     },
     "execution_count": 8,
     "metadata": {},
     "output_type": "execute_result"
    }
   ],
   "source": [
    "prepro_fn(reader())"
   ]
  },
  {
   "cell_type": "markdown",
   "metadata": {},
   "source": [
    "Let's check the result of our preprocessing by iterating over the dataset. We use the helper function `from_dataset` that creates a `reader` from any `tf.data.Dataset`, which gives us eager-like iteration over the underlying dataset."
   ]
  },
  {
   "cell_type": "code",
   "execution_count": 9,
   "metadata": {},
   "outputs": [
    {
     "name": "stdout",
     "output_type": "stream",
     "text": [
      "{'x': array([0.2884208 , 0.6716708 , 0.60438156, 0.74616903, 0.60974383,\n",
      "       0.8843869 , 0.28427488, 0.744994  , 0.02057592, 0.3612376 ,\n",
      "       0.9891428 , 0.04443246, 0.98389417, 0.07303068, 0.46858358,\n",
      "       0.8129141 , 0.42637283, 0.68399006, 0.7564984 , 0.16813973,\n",
      "       0.30100608, 0.69422716, 0.1550892 , 0.995761  , 0.91428363,\n",
      "       0.909327  , 0.36975038, 0.74172604, 0.7243495 , 0.44936314,\n",
      "       0.4023981 , 0.8480999 ], dtype=float32), 'y': array([0.5768416 , 1.3433416 , 1.2087631 , 1.4923381 , 1.2194877 ,\n",
      "       1.7687738 , 0.56854975, 1.489988  , 0.04115184, 0.7224752 ,\n",
      "       1.9782856 , 0.08886492, 1.9677883 , 0.14606136, 0.93716717,\n",
      "       1.6258281 , 0.85274565, 1.3679801 , 1.5129968 , 0.33627945,\n",
      "       0.60201216, 1.3884543 , 0.3101784 , 1.991522  , 1.8285673 ,\n",
      "       1.818654  , 0.73950076, 1.4834521 , 1.448699  , 0.8987263 ,\n",
      "       0.8047962 , 1.6961998 ], dtype=float32)}\n"
     ]
    }
   ],
   "source": [
    "for item in dpr.readers.base.from_dataset(prepro_fn(reader())):\n",
    "    print(item)\n",
    "    break"
   ]
  },
  {
   "cell_type": "markdown",
   "metadata": {},
   "source": [
    "## Model"
   ]
  },
  {
   "cell_type": "markdown",
   "metadata": {},
   "source": [
    "Now that we have a preprocessed dataset, let's build the model. \n",
    "\n",
    "The dataset yields dictionaries of tensors.\n",
    "\n",
    "The model is made of 2 main components\n",
    "\n",
    "1. `pred_fn(tensors: Dict, mode) -> Dict` operates on the dataset dictionaries, creates new tensors (the predictions).\n",
    "2. `loss_fn(tensors: Dict, mode) -> Dict` operates on the dataset and `pred_fn` results, creates at least one new tensor `loss`.\n",
    "\n",
    "We're going to use the `layer` module to quickly define those functions.\n",
    "\n",
    "Make sure to check the [layer reference](https://criteo.github.io/deepr/API/core.html#layer) for more information."
   ]
  },
  {
   "cell_type": "markdown",
   "metadata": {},
   "source": [
    "### Pred function"
   ]
  },
  {
   "cell_type": "markdown",
   "metadata": {},
   "source": [
    "The first part of the model is the prediction function.\n",
    "\n",
    "Here it's pretty simple : it will predict a `y_pred` with an `alpha` parameter such that `y_pred = alpha * x`\n",
    "\n",
    "We first define this as a `Multiply` layer :"
   ]
  },
  {
   "cell_type": "code",
   "execution_count": 10,
   "metadata": {},
   "outputs": [],
   "source": [
    "@dprl.layer(n_in=1, n_out=1)\n",
    "def Multiply(tensors):\n",
    "    alpha = tf.get_variable(name=\"alpha\", shape=(), dtype=tf.float32)\n",
    "    return alpha * tensors"
   ]
  },
  {
   "cell_type": "markdown",
   "metadata": {},
   "source": [
    "The `layer` decorator creates a `Layer` class from the function, roughly equivalent to\n",
    "\n",
    "```python\n",
    "class Multiply:\n",
    "    \n",
    "    def __init__(self, n_in=1, n_out=1, inputs=None, outputs=None, name=None):\n",
    "        self.n_in = n_in\n",
    "        self.n_out = n_out\n",
    "        self.inputs = inputs\n",
    "        self.outputs = outputs\n",
    "        self.name = name\n",
    "        \n",
    "    def __call__(self, tensors, mode: str):\n",
    "        if isinstance(tensors, dict):\n",
    "            return self.forward_as_dict(tensors, mode)\n",
    "        else:\n",
    "            return self.forward(tensors, mode)\n",
    "    \n",
    "    def forward(self, tensors, mode: str):\n",
    "        alpha = tf.get_variable(name=\"alpha\", shape=(), dtype=tf.float32)\n",
    "        return alpha * tensors\n",
    "    \n",
    "    def forward_as_dict(self, tensors: Dict, mode: str) -> Dict:\n",
    "        return {self.outputs: self.forward(tensors[self.inputs])}\n",
    "```\n",
    "\n",
    "We can instantiate our `Layer` with"
   ]
  },
  {
   "cell_type": "code",
   "execution_count": 11,
   "metadata": {},
   "outputs": [],
   "source": [
    "pred_fn = Multiply(inputs=\"x\", outputs=\"y_pred\")"
   ]
  },
  {
   "cell_type": "markdown",
   "metadata": {},
   "source": [
    "The power of the base [Layer](https://criteo.github.io/deepr/API/_autosummary/deepr.layers.Layer.html#deepr.layers.Layer) class is that layers are actually functions that can operate on both dictionaries and tuples of tensors.\n",
    "\n",
    "The `inputs` and `outputs` arguments, when given, specify the keys of the dictionaries to use for the layer.\n",
    "\n",
    "Let's see how it works"
   ]
  },
  {
   "cell_type": "code",
   "execution_count": 12,
   "metadata": {},
   "outputs": [
    {
     "name": "stdout",
     "output_type": "stream",
     "text": [
      "Tensor(\"mul:0\", shape=(), dtype=float32)\n",
      "{'y_pred': <tf.Tensor 'mul:0' shape=() dtype=float32>}\n"
     ]
    }
   ],
   "source": [
    "tf.reset_default_graph()\n",
    "print(pred_fn(tf.constant(1.0)))\n",
    "tf.reset_default_graph()  # Remove alpha variable from the graph\n",
    "print(pred_fn({\"x\": tf.constant(1.0)}))"
   ]
  },
  {
   "cell_type": "markdown",
   "metadata": {},
   "source": [
    "Let's check the output of this model (alpha is initialized randomly) :"
   ]
  },
  {
   "cell_type": "code",
   "execution_count": 13,
   "metadata": {},
   "outputs": [
    {
     "name": "stdout",
     "output_type": "stream",
     "text": [
      "-1.4690943\n"
     ]
    }
   ],
   "source": [
    "tf.reset_default_graph()\n",
    "y_pred = pred_fn(tf.constant(1.0))\n",
    "with tf.Session() as sess:\n",
    "    sess.run(tf.global_variables_initializer())\n",
    "    print(sess.run(y_pred))"
   ]
  },
  {
   "cell_type": "markdown",
   "metadata": {},
   "source": [
    "### Loss function"
   ]
  },
  {
   "cell_type": "markdown",
   "metadata": {},
   "source": [
    "Let's then define the loss function. A squared l2 loss will work fine here, let's create a layer for this :"
   ]
  },
  {
   "cell_type": "code",
   "execution_count": 14,
   "metadata": {},
   "outputs": [],
   "source": [
    "@dprl.layer(n_in=2, n_out=1)\n",
    "def SquaredL2(tensors):\n",
    "    x, y = tensors\n",
    "    return tf.reduce_sum((x-y)**2)"
   ]
  },
  {
   "cell_type": "code",
   "execution_count": 15,
   "metadata": {},
   "outputs": [],
   "source": [
    "loss_fn = SquaredL2(inputs=(\"y_pred\", \"y\"), outputs=\"loss\")"
   ]
  },
  {
   "cell_type": "markdown",
   "metadata": {},
   "source": [
    "Let's see if it works : "
   ]
  },
  {
   "cell_type": "code",
   "execution_count": 16,
   "metadata": {},
   "outputs": [
    {
     "name": "stdout",
     "output_type": "stream",
     "text": [
      "0.25\n",
      "{'loss': 0.25}\n"
     ]
    }
   ],
   "source": [
    "with tf.Session() as sess:\n",
    "    print(sess.run(loss_fn((tf.constant(1.0), tf.constant(0.5)))))\n",
    "    print(sess.run(loss_fn({\"y_pred\": tf.constant(1.0), \"y\": tf.constant(0.5)})))"
   ]
  },
  {
   "cell_type": "markdown",
   "metadata": {},
   "source": [
    "### Optimizer"
   ]
  },
  {
   "cell_type": "markdown",
   "metadata": {},
   "source": [
    "The last thing we need is the optimizer. See the [optimizer reference](https://criteo.github.io/deepr/API/core.html#optimizer)"
   ]
  },
  {
   "cell_type": "code",
   "execution_count": 17,
   "metadata": {},
   "outputs": [],
   "source": [
    "optimizer_fn = dpr.optimizers.TensorflowOptimizer(\"Adam\", 0.1)"
   ]
  },
  {
   "cell_type": "markdown",
   "metadata": {},
   "source": [
    "## Trainer job"
   ]
  },
  {
   "cell_type": "markdown",
   "metadata": {},
   "source": [
    "Since all these concepts are now defined, let's create a `Trainer` job. \n",
    "\n",
    "Make sure to check the [trainer reference](https://criteo.github.io/deepr/API/_autosummary/deepr.jobs.Trainer.html#deepr.jobs.Trainer)"
   ]
  },
  {
   "cell_type": "code",
   "execution_count": 18,
   "metadata": {},
   "outputs": [],
   "source": [
    "job = dpr.jobs.Trainer(\n",
    "    path_model=\"model\", \n",
    "    pred_fn=pred_fn, \n",
    "    loss_fn=loss_fn,\n",
    "    optimizer_fn=optimizer_fn,\n",
    "    train_input_fn=train_input_fn,\n",
    "    eval_input_fn=eval_input_fn,\n",
    "    prepro_fn=prepro_fn\n",
    ")"
   ]
  },
  {
   "cell_type": "markdown",
   "metadata": {},
   "source": [
    "Creating the job is lazy and doesn't take any time. To run it, call the run method : "
   ]
  },
  {
   "cell_type": "code",
   "execution_count": 19,
   "metadata": {},
   "outputs": [
    {
     "name": "stdout",
     "output_type": "stream",
     "text": [
      "INFO:deepr.prepros.core:Not applying Repeat(10) (mode=eval)\n",
      "INFO:deepr.jobs.trainer:Running final evaluation, using global_step = 640\n",
      "INFO:deepr.prepros.core:Not applying Repeat(10) (mode=eval)\n",
      "INFO:deepr.jobs.trainer:{'loss': 0.0, 'global_step': 640}\n"
     ]
    }
   ],
   "source": [
    "job.run()"
   ]
  },
  {
   "cell_type": "markdown",
   "metadata": {},
   "source": [
    "The loss is 0, great, we now know how to multiply by 2 :)"
   ]
  },
  {
   "cell_type": "markdown",
   "metadata": {},
   "source": [
    "Let's check alpha is indeed equal to 2 : "
   ]
  },
  {
   "cell_type": "code",
   "execution_count": 20,
   "metadata": {},
   "outputs": [
    {
     "name": "stdout",
     "output_type": "stream",
     "text": [
      "2.0\n"
     ]
    }
   ],
   "source": [
    "experiment = job.create_experiment()\n",
    "estimator = experiment.estimator\n",
    "print(estimator.get_variable_value(\"alpha\"))"
   ]
  }
 ],
 "metadata": {
  "kernelspec": {
   "display_name": "Python 3",
   "language": "python",
   "name": "python3"
  },
  "language_info": {
   "codemirror_mode": {
    "name": "ipython",
    "version": 3
   },
   "file_extension": ".py",
   "mimetype": "text/x-python",
   "name": "python",
   "nbconvert_exporter": "python",
   "pygments_lexer": "ipython3",
   "version": "3.6.8"
  },
  "pycharm": {
   "stem_cell": {
    "cell_type": "raw",
    "source": [],
    "metadata": {
     "collapsed": false
    }
   }
  }
 },
 "nbformat": 4,
 "nbformat_minor": 1
}